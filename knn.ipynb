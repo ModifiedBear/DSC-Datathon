{
 "cells": [
  {
   "cell_type": "code",
   "execution_count": 31,
   "metadata": {},
   "outputs": [],
   "source": [
    "import pandas as pd\n",
    "import numpy as np\n",
    "import matplotlib.pyplot as plt\n",
    "import seaborn as sb\n",
    "from read_json import as_json, plot_histogram\n",
    "from sklearn.neighbors import NearestNeighbors\n",
    "from sklearn.neighbors import KDTree"
   ]
  },
  {
   "cell_type": "code",
   "execution_count": 3,
   "metadata": {},
   "outputs": [
    {
     "data": {
      "text/html": [
       "<div>\n",
       "<style scoped>\n",
       "    .dataframe tbody tr th:only-of-type {\n",
       "        vertical-align: middle;\n",
       "    }\n",
       "\n",
       "    .dataframe tbody tr th {\n",
       "        vertical-align: top;\n",
       "    }\n",
       "\n",
       "    .dataframe thead th {\n",
       "        text-align: right;\n",
       "    }\n",
       "</style>\n",
       "<table border=\"1\" class=\"dataframe\">\n",
       "  <thead>\n",
       "    <tr style=\"text-align: right;\">\n",
       "      <th></th>\n",
       "      <th>@timestamp</th>\n",
       "      <th>cores</th>\n",
       "      <th>user_pct</th>\n",
       "      <th>idle_pct</th>\n",
       "      <th>system_pct</th>\n",
       "      <th>actual_used_bytes</th>\n",
       "      <th>actual_used_pct</th>\n",
       "      <th>swap_free</th>\n",
       "      <th>swap_total</th>\n",
       "      <th>free</th>\n",
       "      <th>swap</th>\n",
       "      <th>bytes_total</th>\n",
       "      <th>bytes_total_norm</th>\n",
       "      <th>swap_norm</th>\n",
       "      <th>out_bytes</th>\n",
       "      <th>out_bytes_norm</th>\n",
       "      <th>in_bytes</th>\n",
       "      <th>in_bytes_norm</th>\n",
       "    </tr>\n",
       "  </thead>\n",
       "  <tbody>\n",
       "    <tr>\n",
       "      <th>0</th>\n",
       "      <td>2023-03-01 00:00:00</td>\n",
       "      <td>4</td>\n",
       "      <td>0.019750</td>\n",
       "      <td>0.954237</td>\n",
       "      <td>0.026013</td>\n",
       "      <td>NaN</td>\n",
       "      <td>NaN</td>\n",
       "      <td>NaN</td>\n",
       "      <td>NaN</td>\n",
       "      <td>NaN</td>\n",
       "      <td>NaN</td>\n",
       "      <td>NaN</td>\n",
       "      <td>NaN</td>\n",
       "      <td>NaN</td>\n",
       "      <td>1.350341e+10</td>\n",
       "      <td>0.016666</td>\n",
       "      <td>3.965484e+09</td>\n",
       "      <td>0.028013</td>\n",
       "    </tr>\n",
       "    <tr>\n",
       "      <th>1</th>\n",
       "      <td>2023-03-01 00:10:00</td>\n",
       "      <td>4</td>\n",
       "      <td>0.075925</td>\n",
       "      <td>0.866975</td>\n",
       "      <td>0.057125</td>\n",
       "      <td>6.060876e+09</td>\n",
       "      <td>0.70570</td>\n",
       "      <td>2.675782e+09</td>\n",
       "      <td>1.086207e+10</td>\n",
       "      <td>2.528043e+09</td>\n",
       "      <td>0.753658</td>\n",
       "      <td>8.588919e+09</td>\n",
       "      <td>0.130819</td>\n",
       "      <td>0.944027</td>\n",
       "      <td>NaN</td>\n",
       "      <td>NaN</td>\n",
       "      <td>NaN</td>\n",
       "      <td>NaN</td>\n",
       "    </tr>\n",
       "    <tr>\n",
       "      <th>2</th>\n",
       "      <td>2023-03-01 00:20:00</td>\n",
       "      <td>4</td>\n",
       "      <td>NaN</td>\n",
       "      <td>NaN</td>\n",
       "      <td>NaN</td>\n",
       "      <td>6.047541e+09</td>\n",
       "      <td>0.70415</td>\n",
       "      <td>2.672400e+09</td>\n",
       "      <td>1.086207e+10</td>\n",
       "      <td>2.541378e+09</td>\n",
       "      <td>0.753970</td>\n",
       "      <td>8.588919e+09</td>\n",
       "      <td>0.130819</td>\n",
       "      <td>0.944417</td>\n",
       "      <td>2.701281e+10</td>\n",
       "      <td>0.033340</td>\n",
       "      <td>7.933084e+09</td>\n",
       "      <td>0.056041</td>\n",
       "    </tr>\n",
       "    <tr>\n",
       "      <th>3</th>\n",
       "      <td>2023-03-01 00:30:00</td>\n",
       "      <td>4</td>\n",
       "      <td>NaN</td>\n",
       "      <td>NaN</td>\n",
       "      <td>NaN</td>\n",
       "      <td>NaN</td>\n",
       "      <td>NaN</td>\n",
       "      <td>NaN</td>\n",
       "      <td>NaN</td>\n",
       "      <td>NaN</td>\n",
       "      <td>NaN</td>\n",
       "      <td>NaN</td>\n",
       "      <td>NaN</td>\n",
       "      <td>NaN</td>\n",
       "      <td>NaN</td>\n",
       "      <td>NaN</td>\n",
       "      <td>NaN</td>\n",
       "      <td>NaN</td>\n",
       "    </tr>\n",
       "    <tr>\n",
       "      <th>4</th>\n",
       "      <td>2023-03-01 00:40:00</td>\n",
       "      <td>4</td>\n",
       "      <td>0.001575</td>\n",
       "      <td>0.991387</td>\n",
       "      <td>0.007038</td>\n",
       "      <td>6.064812e+09</td>\n",
       "      <td>0.70610</td>\n",
       "      <td>2.660987e+09</td>\n",
       "      <td>1.086207e+10</td>\n",
       "      <td>2.524107e+09</td>\n",
       "      <td>0.755020</td>\n",
       "      <td>8.588919e+09</td>\n",
       "      <td>0.130819</td>\n",
       "      <td>0.945733</td>\n",
       "      <td>NaN</td>\n",
       "      <td>NaN</td>\n",
       "      <td>NaN</td>\n",
       "      <td>NaN</td>\n",
       "    </tr>\n",
       "  </tbody>\n",
       "</table>\n",
       "</div>"
      ],
      "text/plain": [
       "            @timestamp  cores  user_pct  idle_pct  system_pct  \\\n",
       "0  2023-03-01 00:00:00      4  0.019750  0.954237    0.026013   \n",
       "1  2023-03-01 00:10:00      4  0.075925  0.866975    0.057125   \n",
       "2  2023-03-01 00:20:00      4       NaN       NaN         NaN   \n",
       "3  2023-03-01 00:30:00      4       NaN       NaN         NaN   \n",
       "4  2023-03-01 00:40:00      4  0.001575  0.991387    0.007038   \n",
       "\n",
       "   actual_used_bytes  actual_used_pct     swap_free    swap_total  \\\n",
       "0                NaN              NaN           NaN           NaN   \n",
       "1       6.060876e+09          0.70570  2.675782e+09  1.086207e+10   \n",
       "2       6.047541e+09          0.70415  2.672400e+09  1.086207e+10   \n",
       "3                NaN              NaN           NaN           NaN   \n",
       "4       6.064812e+09          0.70610  2.660987e+09  1.086207e+10   \n",
       "\n",
       "           free      swap   bytes_total  bytes_total_norm  swap_norm  \\\n",
       "0           NaN       NaN           NaN               NaN        NaN   \n",
       "1  2.528043e+09  0.753658  8.588919e+09          0.130819   0.944027   \n",
       "2  2.541378e+09  0.753970  8.588919e+09          0.130819   0.944417   \n",
       "3           NaN       NaN           NaN               NaN        NaN   \n",
       "4  2.524107e+09  0.755020  8.588919e+09          0.130819   0.945733   \n",
       "\n",
       "      out_bytes  out_bytes_norm      in_bytes  in_bytes_norm  \n",
       "0  1.350341e+10        0.016666  3.965484e+09       0.028013  \n",
       "1           NaN             NaN           NaN            NaN  \n",
       "2  2.701281e+10        0.033340  7.933084e+09       0.056041  \n",
       "3           NaN             NaN           NaN            NaN  \n",
       "4           NaN             NaN           NaN            NaN  "
      ]
     },
     "execution_count": 3,
     "metadata": {},
     "output_type": "execute_result"
    }
   ],
   "source": [
    "data_dev = pd.read_csv(\"resampled/develop_resampled.csv\")\n",
    "data_dev.head()"
   ]
  },
  {
   "cell_type": "code",
   "execution_count": 5,
   "metadata": {},
   "outputs": [
    {
     "data": {
      "text/plain": [
       "<matplotlib.collections.PathCollection at 0x19eb2b192a0>"
      ]
     },
     "execution_count": 5,
     "metadata": {},
     "output_type": "execute_result"
    },
    {
     "data": {
      "image/png": "[encoded data removed]",
      "text/plain": [
       "<Figure size 432x288 with 1 Axes>"
      ]
     },
     "metadata": {
      "needs_background": "light"
     },
     "output_type": "display_data"
    }
   ],
   "source": [
    "plt.scatter(data_dev.system_pct, data_dev.swap)"
   ]
  },
  {
   "cell_type": "code",
   "execution_count": 7,
   "metadata": {},
   "outputs": [
    {
     "data": {
      "image/png": "[encoded data removed]",
      "text/plain": [
       "<Figure size 432x288 with 1 Axes>"
      ]
     },
     "metadata": {
      "needs_background": "light"
     },
     "output_type": "display_data"
    }
   ],
   "source": [
    "A = plt.scatter(data_dev.free, data_dev.swap)"
   ]
  },
  {
   "cell_type": "code",
   "execution_count": 46,
   "metadata": {},
   "outputs": [
    {
     "data": {
      "text/plain": [
       "array([[0.0070375 , 0.75502032],\n",
       "       [0.0124875 , 0.7443989 ],\n",
       "       [0.010575  , 0.73901974],\n",
       "       ...,\n",
       "       [0.0068375 , 0.5683276 ],\n",
       "       [0.028525  , 0.57898963],\n",
       "       [0.007025  , 0.57859878]])"
      ]
     },
     "execution_count": 46,
     "metadata": {},
     "output_type": "execute_result"
    }
   ],
   "source": [
    "X = np.vstack((data_dev.system_pct.to_numpy(),data_dev.swap.to_numpy())).T\n",
    "X = np.delete(X, np.where(np.isnan(X)), axis=0)"
   ]
  },
  {
   "cell_type": "code",
   "execution_count": 47,
   "metadata": {},
   "outputs": [
    {
     "data": {
      "text/plain": [
       "array([[   0,   61,  110, ...,   72,   64,  109],\n",
       "       [   1,    9,   14, ...,   21,   13,   24],\n",
       "       [   2,    5,    7, ...,    9,    6,   15],\n",
       "       ...,\n",
       "       [1263, 1135, 1136, ..., 1262, 1265, 1117],\n",
       "       [1264, 1138, 1139, ..., 1009, 1265, 1113],\n",
       "       [1265, 1263, 1135, ..., 1137, 1262, 1117]], dtype=int64)"
      ]
     },
     "execution_count": 47,
     "metadata": {},
     "output_type": "execute_result"
    }
   ],
   "source": [
    "nbrs = NearestNeighbors(n_neighbors=7).fit(X)\n",
    "distances, indices = nbrs.kneighbors(X)\n",
    "indices"
   ]
  },
  {
   "cell_type": "code",
   "execution_count": 61,
   "metadata": {},
   "outputs": [
    {
     "data": {
      "text/plain": [
       "[<matplotlib.lines.Line2D at 0x19ebb2715d0>]"
      ]
     },
     "execution_count": 61,
     "metadata": {},
     "output_type": "execute_result"
    },
    {
     "data": {
      "image/png": "[encoded data removed]",
      "text/plain": [
       "<Figure size 432x288 with 1 Axes>"
      ]
     },
     "metadata": {
      "needs_background": "light"
     },
     "output_type": "display_data"
    }
   ],
   "source": [
    "promedios = distances.mean(axis = 1)\n",
    "plt.plot(promedios)"
   ]
  },
  {
   "cell_type": "code",
   "execution_count": 70,
   "metadata": {},
   "outputs": [
    {
     "data": {
      "text/plain": [
       "(array([  12,   52,   53,   68,  105,  174,  256,  257,  458,  459,  460,\n",
       "         535,  565,  583,  584,  608,  616,  632,  634,  726,  787,  837,\n",
       "         838,  839,  915,  963,  964,  991,  992, 1035, 1069, 1070, 1114,\n",
       "        1115, 1154, 1224, 1225, 1226], dtype=int64),)"
      ]
     },
     "execution_count": 70,
     "metadata": {},
     "output_type": "execute_result"
    }
   ],
   "source": [
    "outlier_index = np.where(promedios > 0.04)\n",
    "outlier_index"
   ]
  },
  {
   "cell_type": "code",
   "execution_count": 71,
   "metadata": {},
   "outputs": [],
   "source": [
    "outlier_values = data_dev.iloc[outlier_index]"
   ]
  },
  {
   "cell_type": "code",
   "execution_count": 72,
   "metadata": {},
   "outputs": [
    {
     "data": {
      "text/plain": [
       "<matplotlib.collections.PathCollection at 0x19ebb8e0a30>"
      ]
     },
     "execution_count": 72,
     "metadata": {},
     "output_type": "execute_result"
    },
    {
     "data": {
      "image/png": "[encoded data removed]",
      "text/plain": [
       "<Figure size 432x288 with 1 Axes>"
      ]
     },
     "metadata": {
      "needs_background": "light"
     },
     "output_type": "display_data"
    }
   ],
   "source": [
    "plt.scatter(data_dev[\"system_pct\"], data_dev[\"swap\"], color = \"b\")\n",
    "# plot outlier values\n",
    "plt.scatter(outlier_values[\"system_pct\"], outlier_values[\"swap\"], color = \"r\")"
   ]
  },
  {
   "cell_type": "code",
   "execution_count": 68,
   "metadata": {},
   "outputs": [
    {
     "data": {
      "text/plain": [
       "<matplotlib.collections.PathCollection at 0x19ebb871e10>"
      ]
     },
     "execution_count": 68,
     "metadata": {},
     "output_type": "execute_result"
    },
    {
     "data": {
      "image/png": "[encoded data removed]",
      "text/plain": [
       "<Figure size 432x288 with 1 Axes>"
      ]
     },
     "metadata": {
      "needs_background": "light"
     },
     "output_type": "display_data"
    }
   ],
   "source": [
    "plt.scatter(outlier_values[\"system_pct\"], outlier_values[\"swap\"])"
   ]
  }
 ],
 "metadata": {
  "kernelspec": {
   "display_name": "Python 3",
   "language": "python",
   "name": "python3"
  },
  "language_info": {
   "codemirror_mode": {
    "name": "ipython",
    "version": 3
   },
   "file_extension": ".py",
   "mimetype": "text/x-python",
   "name": "python",
   "nbconvert_exporter": "python",
   "pygments_lexer": "ipython3",
   "version": "3.10.11"
  },
  "orig_nbformat": 4
 },
 "nbformat": 4,
 "nbformat_minor": 2
}
