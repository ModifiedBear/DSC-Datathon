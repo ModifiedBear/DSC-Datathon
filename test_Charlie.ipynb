{
 "cells": [
  {
   "cell_type": "code",
   "execution_count": 214,
   "metadata": {},
   "outputs": [],
   "source": [
    "## isolation forest\n",
    "import pandas as pd\n",
    "import matplotlib.pyplot as plt\n",
    "import json\n",
    "from read_json import read_json  # for json files\n",
    "# from sklearn.model_selection import train_test_split\n",
    "from sklearn.ensemble import IsolationForest\n",
    "import numpy as np\n"
   ]
  },
  {
   "cell_type": "code",
   "execution_count": 222,
   "metadata": {},
   "outputs": [
    {
     "data": {
      "text/html": [
       "<div>\n",
       "<style scoped>\n",
       "    .dataframe tbody tr th:only-of-type {\n",
       "        vertical-align: middle;\n",
       "    }\n",
       "\n",
       "    .dataframe tbody tr th {\n",
       "        vertical-align: top;\n",
       "    }\n",
       "\n",
       "    .dataframe thead th {\n",
       "        text-align: right;\n",
       "    }\n",
       "</style>\n",
       "<table border=\"1\" class=\"dataframe\">\n",
       "  <thead>\n",
       "    <tr style=\"text-align: right;\">\n",
       "      <th></th>\n",
       "      <th>@timestamp</th>\n",
       "      <th>event</th>\n",
       "      <th>host</th>\n",
       "      <th>system</th>\n",
       "    </tr>\n",
       "  </thead>\n",
       "  <tbody>\n",
       "    <tr>\n",
       "      <th>0</th>\n",
       "      <td>2023-03-15T09:28:35.217Z</td>\n",
       "      <td>{'dataset': 'system.network'}</td>\n",
       "      <td>{'name': 'DEVELOP'}</td>\n",
       "      <td>{'network': {'out': {'bytes': 0}, 'in': {'byte...</td>\n",
       "    </tr>\n",
       "    <tr>\n",
       "      <th>1</th>\n",
       "      <td>2023-03-16T03:18:43.551Z</td>\n",
       "      <td>{'dataset': 'system.network'}</td>\n",
       "      <td>{'name': 'QASERVER'}</td>\n",
       "      <td>{'network': {'out': {'bytes': 0}, 'in': {'byte...</td>\n",
       "    </tr>\n",
       "    <tr>\n",
       "      <th>2</th>\n",
       "      <td>2023-03-01T08:09:17.822Z</td>\n",
       "      <td>{'dataset': 'system.cpu'}</td>\n",
       "      <td>{'name': 'PRODUCCION'}</td>\n",
       "      <td>{'cpu': {'cores': 8, 'idle': {'pct': 7.7302}, ...</td>\n",
       "    </tr>\n",
       "    <tr>\n",
       "      <th>3</th>\n",
       "      <td>2023-03-27T20:31:45.971Z</td>\n",
       "      <td>{'dataset': 'system.cpu'}</td>\n",
       "      <td>{'name': 'DEVELOP'}</td>\n",
       "      <td>{'cpu': {'cores': 4, 'idle': {'pct': 3.9579}, ...</td>\n",
       "    </tr>\n",
       "    <tr>\n",
       "      <th>4</th>\n",
       "      <td>2023-03-27T17:06:04.885Z</td>\n",
       "      <td>{'dataset': 'system.network'}</td>\n",
       "      <td>{'name': 'PRODUCCION'}</td>\n",
       "      <td>{'network': {'out': {'bytes': 0}, 'in': {'byte...</td>\n",
       "    </tr>\n",
       "    <tr>\n",
       "      <th>...</th>\n",
       "      <td>...</td>\n",
       "      <td>...</td>\n",
       "      <td>...</td>\n",
       "      <td>...</td>\n",
       "    </tr>\n",
       "    <tr>\n",
       "      <th>99995</th>\n",
       "      <td>2023-03-06T23:11:53.909Z</td>\n",
       "      <td>{'dataset': 'system.network'}</td>\n",
       "      <td>{'name': 'PREPRODUCCION'}</td>\n",
       "      <td>NaN</td>\n",
       "    </tr>\n",
       "    <tr>\n",
       "      <th>99996</th>\n",
       "      <td>2023-03-30T13:33:20.864Z</td>\n",
       "      <td>{'dataset': 'system.network'}</td>\n",
       "      <td>{'name': 'PRUEBAS'}</td>\n",
       "      <td>{'network': {'out': {'bytes': 460628880}, 'in'...</td>\n",
       "    </tr>\n",
       "    <tr>\n",
       "      <th>99997</th>\n",
       "      <td>2023-03-21T08:34:38.317Z</td>\n",
       "      <td>{'dataset': 'system.network'}</td>\n",
       "      <td>{'name': 'PREPRODUCCION'}</td>\n",
       "      <td>NaN</td>\n",
       "    </tr>\n",
       "    <tr>\n",
       "      <th>99998</th>\n",
       "      <td>2023-03-17T09:16:31.559Z</td>\n",
       "      <td>{'dataset': 'system.network'}</td>\n",
       "      <td>{'name': 'PREPRODUCCION'}</td>\n",
       "      <td>{'network': {'out': {'bytes': 1656638238}, 'in...</td>\n",
       "    </tr>\n",
       "    <tr>\n",
       "      <th>99999</th>\n",
       "      <td>2023-03-29T19:41:10.864Z</td>\n",
       "      <td>{'dataset': 'system.network'}</td>\n",
       "      <td>{'name': 'PRUEBAS'}</td>\n",
       "      <td>{'network': {'out': {'bytes': 265040031}, 'in'...</td>\n",
       "    </tr>\n",
       "  </tbody>\n",
       "</table>\n",
       "<p>100000 rows × 4 columns</p>\n",
       "</div>"
      ],
      "text/plain": [
       "                     @timestamp                          event  \\\n",
       "0      2023-03-15T09:28:35.217Z  {'dataset': 'system.network'}   \n",
       "1      2023-03-16T03:18:43.551Z  {'dataset': 'system.network'}   \n",
       "2      2023-03-01T08:09:17.822Z      {'dataset': 'system.cpu'}   \n",
       "3      2023-03-27T20:31:45.971Z      {'dataset': 'system.cpu'}   \n",
       "4      2023-03-27T17:06:04.885Z  {'dataset': 'system.network'}   \n",
       "...                         ...                            ...   \n",
       "99995  2023-03-06T23:11:53.909Z  {'dataset': 'system.network'}   \n",
       "99996  2023-03-30T13:33:20.864Z  {'dataset': 'system.network'}   \n",
       "99997  2023-03-21T08:34:38.317Z  {'dataset': 'system.network'}   \n",
       "99998  2023-03-17T09:16:31.559Z  {'dataset': 'system.network'}   \n",
       "99999  2023-03-29T19:41:10.864Z  {'dataset': 'system.network'}   \n",
       "\n",
       "                            host  \\\n",
       "0            {'name': 'DEVELOP'}   \n",
       "1           {'name': 'QASERVER'}   \n",
       "2         {'name': 'PRODUCCION'}   \n",
       "3            {'name': 'DEVELOP'}   \n",
       "4         {'name': 'PRODUCCION'}   \n",
       "...                          ...   \n",
       "99995  {'name': 'PREPRODUCCION'}   \n",
       "99996        {'name': 'PRUEBAS'}   \n",
       "99997  {'name': 'PREPRODUCCION'}   \n",
       "99998  {'name': 'PREPRODUCCION'}   \n",
       "99999        {'name': 'PRUEBAS'}   \n",
       "\n",
       "                                                  system  \n",
       "0      {'network': {'out': {'bytes': 0}, 'in': {'byte...  \n",
       "1      {'network': {'out': {'bytes': 0}, 'in': {'byte...  \n",
       "2      {'cpu': {'cores': 8, 'idle': {'pct': 7.7302}, ...  \n",
       "3      {'cpu': {'cores': 4, 'idle': {'pct': 3.9579}, ...  \n",
       "4      {'network': {'out': {'bytes': 0}, 'in': {'byte...  \n",
       "...                                                  ...  \n",
       "99995                                                NaN  \n",
       "99996  {'network': {'out': {'bytes': 460628880}, 'in'...  \n",
       "99997                                                NaN  \n",
       "99998  {'network': {'out': {'bytes': 1656638238}, 'in...  \n",
       "99999  {'network': {'out': {'bytes': 265040031}, 'in'...  \n",
       "\n",
       "[100000 rows x 4 columns]"
      ]
     },
     "execution_count": 222,
     "metadata": {},
     "output_type": "execute_result"
    }
   ],
   "source": [
    "data = pd.read_csv('data_sample_noV.csv')\n",
    "data"
   ]
  },
  {
   "cell_type": "code",
   "execution_count": 242,
   "metadata": {},
   "outputs": [
    {
     "name": "stdout",
     "output_type": "stream",
     "text": [
      "<class 'pandas.core.series.Series'>\n"
     ]
    },
    {
     "ename": "TypeError",
     "evalue": "string indices must be integers",
     "output_type": "error",
     "traceback": [
      "\u001b[1;31m---------------------------------------------------------------------------\u001b[0m",
      "\u001b[1;31mTypeError\u001b[0m                                 Traceback (most recent call last)",
      "\u001b[1;32mc:\\Users\\drmag\\OneDrive\\Documentos\\Code\\PYTHON-code\\DSC-Datathon\\test_Charlie.ipynb Cell 3\u001b[0m in \u001b[0;36m<cell line: 5>\u001b[1;34m()\u001b[0m\n\u001b[0;32m      <a href='vscode-notebook-cell:/c%3A/Users/drmag/OneDrive/Documentos/Code/PYTHON-code/DSC-Datathon/test_Charlie.ipynb#X23sZmlsZQ%3D%3D?line=1'>2</a>\u001b[0m \u001b[39mprint\u001b[39m(\u001b[39mtype\u001b[39m(event))\n\u001b[0;32m      <a href='vscode-notebook-cell:/c%3A/Users/drmag/OneDrive/Documentos/Code/PYTHON-code/DSC-Datathon/test_Charlie.ipynb#X23sZmlsZQ%3D%3D?line=2'>3</a>\u001b[0m \u001b[39m# print(event)\u001b[39;00m\n\u001b[1;32m----> <a href='vscode-notebook-cell:/c%3A/Users/drmag/OneDrive/Documentos/Code/PYTHON-code/DSC-Datathon/test_Charlie.ipynb#X23sZmlsZQ%3D%3D?line=4'>5</a>\u001b[0m out_bytes \u001b[39m=\u001b[39m event\u001b[39m.\u001b[39;49mmap(\u001b[39mlambda\u001b[39;49;00m x: x[\u001b[39m\"\u001b[39;49m\u001b[39mdataset\u001b[39;49m\u001b[39m\"\u001b[39;49m])\n\u001b[0;32m      <a href='vscode-notebook-cell:/c%3A/Users/drmag/OneDrive/Documentos/Code/PYTHON-code/DSC-Datathon/test_Charlie.ipynb#X23sZmlsZQ%3D%3D?line=6'>7</a>\u001b[0m \u001b[39mprint\u001b[39m(out_bytes)\n",
      "File \u001b[1;32m~\\AppData\\Local\\Packages\\PythonSoftwareFoundation.Python.3.10_qbz5n2kfra8p0\\LocalCache\\local-packages\\Python310\\site-packages\\pandas\\core\\series.py:4237\u001b[0m, in \u001b[0;36mSeries.map\u001b[1;34m(self, arg, na_action)\u001b[0m\n\u001b[0;32m   4162\u001b[0m \u001b[39mdef\u001b[39;00m \u001b[39mmap\u001b[39m(\u001b[39mself\u001b[39m, arg, na_action\u001b[39m=\u001b[39m\u001b[39mNone\u001b[39;00m) \u001b[39m-\u001b[39m\u001b[39m>\u001b[39m Series:\n\u001b[0;32m   4163\u001b[0m     \u001b[39m\"\"\"\u001b[39;00m\n\u001b[0;32m   4164\u001b[0m \u001b[39m    Map values of Series according to an input mapping or function.\u001b[39;00m\n\u001b[0;32m   4165\u001b[0m \n\u001b[1;32m   (...)\u001b[0m\n\u001b[0;32m   4235\u001b[0m \u001b[39m    dtype: object\u001b[39;00m\n\u001b[0;32m   4236\u001b[0m \u001b[39m    \"\"\"\u001b[39;00m\n\u001b[1;32m-> 4237\u001b[0m     new_values \u001b[39m=\u001b[39m \u001b[39mself\u001b[39;49m\u001b[39m.\u001b[39;49m_map_values(arg, na_action\u001b[39m=\u001b[39;49mna_action)\n\u001b[0;32m   4238\u001b[0m     \u001b[39mreturn\u001b[39;00m \u001b[39mself\u001b[39m\u001b[39m.\u001b[39m_constructor(new_values, index\u001b[39m=\u001b[39m\u001b[39mself\u001b[39m\u001b[39m.\u001b[39mindex)\u001b[39m.\u001b[39m__finalize__(\n\u001b[0;32m   4239\u001b[0m         \u001b[39mself\u001b[39m, method\u001b[39m=\u001b[39m\u001b[39m\"\u001b[39m\u001b[39mmap\u001b[39m\u001b[39m\"\u001b[39m\n\u001b[0;32m   4240\u001b[0m     )\n",
      "File \u001b[1;32m~\\AppData\\Local\\Packages\\PythonSoftwareFoundation.Python.3.10_qbz5n2kfra8p0\\LocalCache\\local-packages\\Python310\\site-packages\\pandas\\core\\base.py:880\u001b[0m, in \u001b[0;36mIndexOpsMixin._map_values\u001b[1;34m(self, mapper, na_action)\u001b[0m\n\u001b[0;32m    877\u001b[0m         \u001b[39mraise\u001b[39;00m \u001b[39mValueError\u001b[39;00m(msg)\n\u001b[0;32m    879\u001b[0m \u001b[39m# mapper is a function\u001b[39;00m\n\u001b[1;32m--> 880\u001b[0m new_values \u001b[39m=\u001b[39m map_f(values, mapper)\n\u001b[0;32m    882\u001b[0m \u001b[39mreturn\u001b[39;00m new_values\n",
      "File \u001b[1;32m~\\AppData\\Local\\Packages\\PythonSoftwareFoundation.Python.3.10_qbz5n2kfra8p0\\LocalCache\\local-packages\\Python310\\site-packages\\pandas\\_libs\\lib.pyx:2870\u001b[0m, in \u001b[0;36mpandas._libs.lib.map_infer\u001b[1;34m()\u001b[0m\n",
      "\u001b[1;32mc:\\Users\\drmag\\OneDrive\\Documentos\\Code\\PYTHON-code\\DSC-Datathon\\test_Charlie.ipynb Cell 3\u001b[0m in \u001b[0;36m<lambda>\u001b[1;34m(x)\u001b[0m\n\u001b[0;32m      <a href='vscode-notebook-cell:/c%3A/Users/drmag/OneDrive/Documentos/Code/PYTHON-code/DSC-Datathon/test_Charlie.ipynb#X23sZmlsZQ%3D%3D?line=1'>2</a>\u001b[0m \u001b[39mprint\u001b[39m(\u001b[39mtype\u001b[39m(event))\n\u001b[0;32m      <a href='vscode-notebook-cell:/c%3A/Users/drmag/OneDrive/Documentos/Code/PYTHON-code/DSC-Datathon/test_Charlie.ipynb#X23sZmlsZQ%3D%3D?line=2'>3</a>\u001b[0m \u001b[39m# print(event)\u001b[39;00m\n\u001b[1;32m----> <a href='vscode-notebook-cell:/c%3A/Users/drmag/OneDrive/Documentos/Code/PYTHON-code/DSC-Datathon/test_Charlie.ipynb#X23sZmlsZQ%3D%3D?line=4'>5</a>\u001b[0m out_bytes \u001b[39m=\u001b[39m event\u001b[39m.\u001b[39mmap(\u001b[39mlambda\u001b[39;00m x: x[\u001b[39m\"\u001b[39;49m\u001b[39mdataset\u001b[39;49m\u001b[39m\"\u001b[39;49m])\n\u001b[0;32m      <a href='vscode-notebook-cell:/c%3A/Users/drmag/OneDrive/Documentos/Code/PYTHON-code/DSC-Datathon/test_Charlie.ipynb#X23sZmlsZQ%3D%3D?line=6'>7</a>\u001b[0m \u001b[39mprint\u001b[39m(out_bytes)\n",
      "\u001b[1;31mTypeError\u001b[0m: string indices must be integers"
     ]
    }
   ],
   "source": [
    "event = data.event\n",
    "print(type(event))\n",
    "# print(event)\n",
    "\n",
    "out_bytes = event.map(lambda x: x[\"dataset\"])\n",
    "\n",
    "print(out_bytes)\n",
    "# events = event.map(lambda x: x[\"dataset\"])\n",
    "# network_values = data.loc[\"event\"].map(lambda x: read_json(x))\n",
    "# out_bytes = network_values.map(lambda x: x[\"network\"][\"out\"][\"bytes\"])\n",
    "\n",
    "# id_network = data.loc[id_string][\"event\"].map(lambda x: \"network\" in x)\n"
   ]
  },
  {
   "cell_type": "code",
   "execution_count": 240,
   "metadata": {},
   "outputs": [
    {
     "name": "stdout",
     "output_type": "stream",
     "text": [
      "<class 'pandas.core.series.Series'>\n",
      "0        {'network': {'out': {'bytes': 0}, 'in': {'byte...\n",
      "1        {'network': {'out': {'bytes': 0}, 'in': {'byte...\n",
      "4        {'network': {'out': {'bytes': 0}, 'in': {'byte...\n",
      "10       {'network': {'out': {'bytes': 0}, 'in': {'byte...\n",
      "13       {'network': {'out': {'bytes': 0}, 'in': {'byte...\n",
      "                               ...                        \n",
      "99990    {'network': {'out': {'bytes': 0}, 'in': {'byte...\n",
      "99992    {'network': {'out': {'bytes': 0}, 'in': {'byte...\n",
      "99996    {'network': {'out': {'bytes': 460628880}, 'in'...\n",
      "99998    {'network': {'out': {'bytes': 1656638238}, 'in...\n",
      "99999    {'network': {'out': {'bytes': 265040031}, 'in'...\n",
      "Name: system, Length: 49983, dtype: object\n"
     ]
    }
   ],
   "source": [
    "# extract hostnames\n",
    "hostnames = data[\"host\"].unique()\n",
    "hostnames = list(map(read_json, hostnames))\n",
    "hostnames_values = np.array([list(hostnames[i].values()) for i in range(len(hostnames))])\n",
    "data[\"host\"] == hostnames[0]\n",
    "# \"network\" in data[\"system\"][0]\n",
    "\n",
    "id_float = data.system.map(lambda x: isinstance(x, float))\n",
    "id_string = data.system.map(lambda x: isinstance(x, str))  # shoudl be ~id_string\n",
    "id_nan = data.system.isna()\n",
    "# all system.network is nan\n",
    "id_network = data.loc[id_string][\"event\"].map(lambda x: \"network\" in x)\n",
    "# get network values\n",
    "network_values = data.loc[id_string][id_network][\"system\"].map(lambda x: read_json(x))\n",
    "print(type(network_values))\n",
    "print(network_values)\n",
    "#out_bytes = \n",
    "out_bytes = network_values.map(lambda x: x[\"network\"][\"out\"][\"bytes\"])\n",
    "in_bytes  = network_values.map(lambda x: x[\"network\"][\"in\"][\"bytes\"])\n"
   ]
  },
  {
   "cell_type": "code",
   "execution_count": null,
   "metadata": {},
   "outputs": [],
   "source": [
    "event = df.event\n",
    "event\n",
    "print(df.event.map(read_json)[:])\n",
    "in_bytes  = network_values.map(lambda x: x[\"network\"][\"in\"][\"bytes\"])\n",
    "\n",
    "network_values = df.loc[id_string][id_network][\"system\"].map(lambda x: as_json(x))\n",
    "#out_bytes = \n",
    "out_bytes = network_values.map(lambda x: x[\"network\"][\"out\"][\"bytes\"])\n",
    "in_bytes  = network_values.map(lambda x: x[\"network\"][\"in\"][\"bytes\"])\n",
    "\n",
    "\n",
    "df.event.map(read_json)[0].get(\"dataset\")"
   ]
  },
  {
   "cell_type": "code",
   "execution_count": null,
   "metadata": {},
   "outputs": [],
   "source": [
    "timestamp = df.loc[:,\"@timestamp\"].to_frame()\n",
    "event = df.event.to_frame()\n",
    "hosts = df.host.to_frame()\n",
    "df_new = timestamp.join(event).join(hosts)\n",
    "df_new"
   ]
  },
  {
   "cell_type": "code",
   "execution_count": null,
   "metadata": {},
   "outputs": [],
   "source": [
    "# extract hostnames\n",
    "hostnames = df[\"host\"].unique()\n",
    "hostnames = list(map(read_json, hostnames))\n",
    "print(hostnames)"
   ]
  },
  {
   "cell_type": "code",
   "execution_count": null,
   "metadata": {},
   "outputs": [],
   "source": [
    "df.event.hist()\n",
    "event_label = [\"system.network\",\"system.cpu\",\"system.memory\"]\n",
    "# 0 system network\n",
    "# system cpu\n",
    "# system mem"
   ]
  },
  {
   "cell_type": "code",
   "execution_count": null,
   "metadata": {},
   "outputs": [],
   "source": [
    "df.host.map(read_json)[0].get(\"name\")"
   ]
  },
  {
   "cell_type": "code",
   "execution_count": null,
   "metadata": {},
   "outputs": [],
   "source": [
    "events = np.zeros(df.shape[0])\n",
    "for i in range(df.shape[0]):\n",
    "    if df.host.map(read_json)[0].get(\"name\") == \"system.network\":\n",
    "        events[i] = 0\n",
    "    elif df.host.map(read_json)[0].get(\"name\") == \"system.cpu\":\n",
    "        events[i] = 1\n",
    "    else:\n",
    "        events[i] = 2"
   ]
  },
  {
   "cell_type": "code",
   "execution_count": null,
   "metadata": {},
   "outputs": [],
   "source": [
    "events"
   ]
  },
  {
   "cell_type": "code",
   "execution_count": null,
   "metadata": {},
   "outputs": [],
   "source": [
    "x = df.host.map(read_json)\n",
    "y = x[0].get(\"name\")"
   ]
  },
  {
   "cell_type": "code",
   "execution_count": null,
   "metadata": {},
   "outputs": [],
   "source": [
    "event = df.loc[:,\"event\"]\n",
    "event"
   ]
  },
  {
   "cell_type": "code",
   "execution_count": null,
   "metadata": {},
   "outputs": [],
   "source": [
    "# df.timestamp.map(read_json)\n",
    "df.loc[:,\"@timestamp\"]\n"
   ]
  }
 ],
 "metadata": {
  "kernelspec": {
   "display_name": "Python 3",
   "language": "python",
   "name": "python3"
  },
  "language_info": {
   "codemirror_mode": {
    "name": "ipython",
    "version": 3
   },
   "file_extension": ".py",
   "mimetype": "text/x-python",
   "name": "python",
   "nbconvert_exporter": "python",
   "pygments_lexer": "ipython3",
   "version": "3.10.11"
  },
  "orig_nbformat": 4
 },
 "nbformat": 4,
 "nbformat_minor": 2
}
