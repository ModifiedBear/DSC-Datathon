{
 "cells": [
  {
   "cell_type": "code",
   "execution_count": 2,
   "metadata": {},
   "outputs": [],
   "source": [
    "import pandas as pd\n",
    "import numpy as np\n",
    "import matplotlib.pyplot as plt\n",
    "import json\n",
    "from read_json import read_json\n"
   ]
  },
  {
   "cell_type": "code",
   "execution_count": 3,
   "metadata": {},
   "outputs": [
    {
     "data": {
      "text/html": [
       "<div>\n",
       "<style scoped>\n",
       "    .dataframe tbody tr th:only-of-type {\n",
       "        vertical-align: middle;\n",
       "    }\n",
       "\n",
       "    .dataframe tbody tr th {\n",
       "        vertical-align: top;\n",
       "    }\n",
       "\n",
       "    .dataframe thead th {\n",
       "        text-align: right;\n",
       "    }\n",
       "</style>\n",
       "<table border=\"1\" class=\"dataframe\">\n",
       "  <thead>\n",
       "    <tr style=\"text-align: right;\">\n",
       "      <th></th>\n",
       "      <th>@timestamp</th>\n",
       "      <th>event</th>\n",
       "      <th>host</th>\n",
       "      <th>system</th>\n",
       "    </tr>\n",
       "  </thead>\n",
       "  <tbody>\n",
       "    <tr>\n",
       "      <th>0</th>\n",
       "      <td>2023-03-15T09:28:35.217Z</td>\n",
       "      <td>{'dataset': 'system.network'}</td>\n",
       "      <td>{'name': 'DEVELOP'}</td>\n",
       "      <td>{'network': {'out': {'bytes': 0}, 'in': {'byte...</td>\n",
       "    </tr>\n",
       "    <tr>\n",
       "      <th>1</th>\n",
       "      <td>2023-03-16T03:18:43.551Z</td>\n",
       "      <td>{'dataset': 'system.network'}</td>\n",
       "      <td>{'name': 'QASERVER'}</td>\n",
       "      <td>{'network': {'out': {'bytes': 0}, 'in': {'byte...</td>\n",
       "    </tr>\n",
       "    <tr>\n",
       "      <th>2</th>\n",
       "      <td>2023-03-01T08:09:17.822Z</td>\n",
       "      <td>{'dataset': 'system.cpu'}</td>\n",
       "      <td>{'name': 'PRODUCCION'}</td>\n",
       "      <td>{'cpu': {'cores': 8, 'idle': {'pct': 7.7302}, ...</td>\n",
       "    </tr>\n",
       "    <tr>\n",
       "      <th>3</th>\n",
       "      <td>2023-03-27T20:31:45.971Z</td>\n",
       "      <td>{'dataset': 'system.cpu'}</td>\n",
       "      <td>{'name': 'DEVELOP'}</td>\n",
       "      <td>{'cpu': {'cores': 4, 'idle': {'pct': 3.9579}, ...</td>\n",
       "    </tr>\n",
       "    <tr>\n",
       "      <th>4</th>\n",
       "      <td>2023-03-27T17:06:04.885Z</td>\n",
       "      <td>{'dataset': 'system.network'}</td>\n",
       "      <td>{'name': 'PRODUCCION'}</td>\n",
       "      <td>{'network': {'out': {'bytes': 0}, 'in': {'byte...</td>\n",
       "    </tr>\n",
       "  </tbody>\n",
       "</table>\n",
       "</div>"
      ],
      "text/plain": [
       "                 @timestamp                          event  \\\n",
       "0  2023-03-15T09:28:35.217Z  {'dataset': 'system.network'}   \n",
       "1  2023-03-16T03:18:43.551Z  {'dataset': 'system.network'}   \n",
       "2  2023-03-01T08:09:17.822Z      {'dataset': 'system.cpu'}   \n",
       "3  2023-03-27T20:31:45.971Z      {'dataset': 'system.cpu'}   \n",
       "4  2023-03-27T17:06:04.885Z  {'dataset': 'system.network'}   \n",
       "\n",
       "                     host                                             system  \n",
       "0     {'name': 'DEVELOP'}  {'network': {'out': {'bytes': 0}, 'in': {'byte...  \n",
       "1    {'name': 'QASERVER'}  {'network': {'out': {'bytes': 0}, 'in': {'byte...  \n",
       "2  {'name': 'PRODUCCION'}  {'cpu': {'cores': 8, 'idle': {'pct': 7.7302}, ...  \n",
       "3     {'name': 'DEVELOP'}  {'cpu': {'cores': 4, 'idle': {'pct': 3.9579}, ...  \n",
       "4  {'name': 'PRODUCCION'}  {'network': {'out': {'bytes': 0}, 'in': {'byte...  "
      ]
     },
     "execution_count": 3,
     "metadata": {},
     "output_type": "execute_result"
    }
   ],
   "source": [
    "df = pd.read_csv('data_sample.csv')\n",
    "df = df.drop('@version',axis=1)\n",
    "df.head()"
   ]
  },
  {
   "cell_type": "code",
   "execution_count": 4,
   "metadata": {},
   "outputs": [
    {
     "data": {
      "text/plain": [
       "0              {'name': 'DEVELOP'}\n",
       "1             {'name': 'QASERVER'}\n",
       "2           {'name': 'PRODUCCION'}\n",
       "3              {'name': 'DEVELOP'}\n",
       "4           {'name': 'PRODUCCION'}\n",
       "                   ...            \n",
       "99995    {'name': 'PREPRODUCCION'}\n",
       "99996          {'name': 'PRUEBAS'}\n",
       "99997    {'name': 'PREPRODUCCION'}\n",
       "99998    {'name': 'PREPRODUCCION'}\n",
       "99999          {'name': 'PRUEBAS'}\n",
       "Name: host, Length: 100000, dtype: object"
      ]
     },
     "execution_count": 4,
     "metadata": {},
     "output_type": "execute_result"
    }
   ],
   "source": [
    "df.host.map(read_json)"
   ]
  },
  {
   "cell_type": "code",
   "execution_count": 5,
   "metadata": {},
   "outputs": [
    {
     "ename": "AttributeError",
     "evalue": "'float' object has no attribute 'replace'",
     "output_type": "error",
     "traceback": [
      "\u001b[1;31m---------------------------------------------------------------------------\u001b[0m",
      "\u001b[1;31mAttributeError\u001b[0m                            Traceback (most recent call last)",
      "\u001b[1;32mc:\\Users\\drmag\\OneDrive\\Documentos\\Code\\PYTHON-code\\DSC-Datathon\\exploracionFabiancopy.ipynb Cell 4\u001b[0m in \u001b[0;36m<cell line: 1>\u001b[1;34m()\u001b[0m\n\u001b[0;32m      <a href='vscode-notebook-cell:/c%3A/Users/drmag/OneDrive/Documentos/Code/PYTHON-code/DSC-Datathon/exploracionFabiancopy.ipynb#W3sZmlsZQ%3D%3D?line=0'>1</a>\u001b[0m \u001b[39mfor\u001b[39;00m ii \u001b[39min\u001b[39;00m \u001b[39mrange\u001b[39m(\u001b[39mlen\u001b[39m(df\u001b[39m.\u001b[39msystem)):\n\u001b[1;32m----> <a href='vscode-notebook-cell:/c%3A/Users/drmag/OneDrive/Documentos/Code/PYTHON-code/DSC-Datathon/exploracionFabiancopy.ipynb#W3sZmlsZQ%3D%3D?line=1'>2</a>\u001b[0m     read_json(df\u001b[39m.\u001b[39;49msystem[ii])\n",
      "File \u001b[1;32mc:\\Users\\drmag\\OneDrive\\Documentos\\Code\\PYTHON-code\\DSC-Datathon\\read_json.py:6\u001b[0m, in \u001b[0;36mread_json\u001b[1;34m(obj)\u001b[0m\n\u001b[0;32m      4\u001b[0m \u001b[39mdef\u001b[39;00m \u001b[39mread_json\u001b[39m(obj):\n\u001b[0;32m      5\u001b[0m   \u001b[39m# replace quotes\u001b[39;00m\n\u001b[1;32m----> 6\u001b[0m   jdata \u001b[39m=\u001b[39m obj\u001b[39m.\u001b[39;49mreplace(\u001b[39m\"\u001b[39m\u001b[39m\\'\u001b[39;00m\u001b[39m\"\u001b[39m, \u001b[39m\"\u001b[39m\u001b[39m\\\"\u001b[39;00m\u001b[39m\"\u001b[39m)\n\u001b[0;32m      7\u001b[0m   \u001b[39mreturn\u001b[39;00m json\u001b[39m.\u001b[39mloads(jdata)\n",
      "\u001b[1;31mAttributeError\u001b[0m: 'float' object has no attribute 'replace'"
     ]
    }
   ],
   "source": [
    "for ii in range(len(df.system)):\n",
    "    read_json(df.system[ii])"
   ]
  },
  {
   "cell_type": "code",
   "execution_count": null,
   "metadata": {},
   "outputs": [
    {
     "ename": "AttributeError",
     "evalue": "'float' object has no attribute 'replace'",
     "output_type": "error",
     "traceback": [
      "\u001b[1;31m---------------------------------------------------------------------------\u001b[0m",
      "\u001b[1;31mAttributeError\u001b[0m                            Traceback (most recent call last)",
      "\u001b[1;32mc:\\Users\\fab_2\\OneDrive\\Documentos\\Datathon\\DSC-Datathon\\exploracionFabian copy.ipynb Cell 3\u001b[0m in \u001b[0;36m<cell line: 1>\u001b[1;34m()\u001b[0m\n\u001b[1;32m----> <a href='vscode-notebook-cell:/c%3A/Users/fab_2/OneDrive/Documentos/Datathon/DSC-Datathon/exploracionFabian%20copy.ipynb#W6sZmlsZQ%3D%3D?line=0'>1</a>\u001b[0m system \u001b[39m=\u001b[39m df\u001b[39m.\u001b[39;49msystem\u001b[39m.\u001b[39;49mmap(read_json)\n\u001b[0;32m      <a href='vscode-notebook-cell:/c%3A/Users/fab_2/OneDrive/Documentos/Datathon/DSC-Datathon/exploracionFabian%20copy.ipynb#W6sZmlsZQ%3D%3D?line=1'>2</a>\u001b[0m \u001b[39mfor\u001b[39;00m ii \u001b[39min\u001b[39;00m \u001b[39mrange\u001b[39m(\u001b[39mlen\u001b[39m(system)):\n\u001b[0;32m      <a href='vscode-notebook-cell:/c%3A/Users/fab_2/OneDrive/Documentos/Datathon/DSC-Datathon/exploracionFabian%20copy.ipynb#W6sZmlsZQ%3D%3D?line=2'>3</a>\u001b[0m     plt\u001b[39m.\u001b[39mscatter(system[ii][\u001b[39m\"\u001b[39m\u001b[39mcpu\u001b[39m\u001b[39m\"\u001b[39m], system[ii][\u001b[39m\"\u001b[39m\u001b[39mcpu\u001b[39m\u001b[39m\"\u001b[39m][\u001b[39m\"\u001b[39m\u001b[39midle\u001b[39m\u001b[39m\"\u001b[39m][\u001b[39m\"\u001b[39m\u001b[39mpct\u001b[39m\u001b[39m\"\u001b[39m], c\u001b[39m=\u001b[39m\u001b[39m\"\u001b[39m\u001b[39mk\u001b[39m\u001b[39m\"\u001b[39m)\n",
      "File \u001b[1;32m~\\AppData\\Local\\Packages\\PythonSoftwareFoundation.Python.3.10_qbz5n2kfra8p0\\LocalCache\\local-packages\\Python310\\site-packages\\pandas\\core\\series.py:4237\u001b[0m, in \u001b[0;36mSeries.map\u001b[1;34m(self, arg, na_action)\u001b[0m\n\u001b[0;32m   4162\u001b[0m \u001b[39mdef\u001b[39;00m \u001b[39mmap\u001b[39m(\u001b[39mself\u001b[39m, arg, na_action\u001b[39m=\u001b[39m\u001b[39mNone\u001b[39;00m) \u001b[39m-\u001b[39m\u001b[39m>\u001b[39m Series:\n\u001b[0;32m   4163\u001b[0m     \u001b[39m\"\"\"\u001b[39;00m\n\u001b[0;32m   4164\u001b[0m \u001b[39m    Map values of Series according to an input mapping or function.\u001b[39;00m\n\u001b[0;32m   4165\u001b[0m \n\u001b[1;32m   (...)\u001b[0m\n\u001b[0;32m   4235\u001b[0m \u001b[39m    dtype: object\u001b[39;00m\n\u001b[0;32m   4236\u001b[0m \u001b[39m    \"\"\"\u001b[39;00m\n\u001b[1;32m-> 4237\u001b[0m     new_values \u001b[39m=\u001b[39m \u001b[39mself\u001b[39;49m\u001b[39m.\u001b[39;49m_map_values(arg, na_action\u001b[39m=\u001b[39;49mna_action)\n\u001b[0;32m   4238\u001b[0m     \u001b[39mreturn\u001b[39;00m \u001b[39mself\u001b[39m\u001b[39m.\u001b[39m_constructor(new_values, index\u001b[39m=\u001b[39m\u001b[39mself\u001b[39m\u001b[39m.\u001b[39mindex)\u001b[39m.\u001b[39m__finalize__(\n\u001b[0;32m   4239\u001b[0m         \u001b[39mself\u001b[39m, method\u001b[39m=\u001b[39m\u001b[39m\"\u001b[39m\u001b[39mmap\u001b[39m\u001b[39m\"\u001b[39m\n\u001b[0;32m   4240\u001b[0m     )\n",
      "File \u001b[1;32m~\\AppData\\Local\\Packages\\PythonSoftwareFoundation.Python.3.10_qbz5n2kfra8p0\\LocalCache\\local-packages\\Python310\\site-packages\\pandas\\core\\base.py:880\u001b[0m, in \u001b[0;36mIndexOpsMixin._map_values\u001b[1;34m(self, mapper, na_action)\u001b[0m\n\u001b[0;32m    877\u001b[0m         \u001b[39mraise\u001b[39;00m \u001b[39mValueError\u001b[39;00m(msg)\n\u001b[0;32m    879\u001b[0m \u001b[39m# mapper is a function\u001b[39;00m\n\u001b[1;32m--> 880\u001b[0m new_values \u001b[39m=\u001b[39m map_f(values, mapper)\n\u001b[0;32m    882\u001b[0m \u001b[39mreturn\u001b[39;00m new_values\n",
      "File \u001b[1;32m~\\AppData\\Local\\Packages\\PythonSoftwareFoundation.Python.3.10_qbz5n2kfra8p0\\LocalCache\\local-packages\\Python310\\site-packages\\pandas\\_libs\\lib.pyx:2870\u001b[0m, in \u001b[0;36mpandas._libs.lib.map_infer\u001b[1;34m()\u001b[0m\n",
      "File \u001b[1;32mc:\\Users\\fab_2\\OneDrive\\Documentos\\Datathon\\DSC-Datathon\\read_json.py:6\u001b[0m, in \u001b[0;36mread_json\u001b[1;34m(obj)\u001b[0m\n\u001b[0;32m      4\u001b[0m \u001b[39mdef\u001b[39;00m \u001b[39mread_json\u001b[39m(obj):\n\u001b[0;32m      5\u001b[0m   \u001b[39m# replace quotes\u001b[39;00m\n\u001b[1;32m----> 6\u001b[0m   jdata \u001b[39m=\u001b[39m obj\u001b[39m.\u001b[39;49mreplace(\u001b[39m\"\u001b[39m\u001b[39m\\'\u001b[39;00m\u001b[39m\"\u001b[39m, \u001b[39m\"\u001b[39m\u001b[39m\\\"\u001b[39;00m\u001b[39m\"\u001b[39m)\n\u001b[0;32m      7\u001b[0m   \u001b[39mreturn\u001b[39;00m json\u001b[39m.\u001b[39mloads(jdata)\n",
      "\u001b[1;31mAttributeError\u001b[0m: 'float' object has no attribute 'replace'"
     ]
    }
   ],
   "source": [
    "system = df.system.map(read_json)\n",
    "for ii in range(len(system)):\n",
    "    plt.scatter(system[ii][\"cpu\"], system[ii][\"cpu\"][\"idle\"][\"pct\"], c=\"k\")\n"
   ]
  },
  {
   "cell_type": "code",
   "execution_count": null,
   "metadata": {},
   "outputs": [
    {
     "data": {
      "text/plain": [
       "0          NaN\n",
       "1          NaN\n",
       "2          NaN\n",
       "3          NaN\n",
       "4          NaN\n",
       "          ... \n",
       "7987576    NaN\n",
       "7987577    NaN\n",
       "7987578    NaN\n",
       "7987579    NaN\n",
       "7987580    NaN\n",
       "Name: system, Length: 7987581, dtype: object"
      ]
     },
     "execution_count": 35,
     "metadata": {},
     "output_type": "execute_result"
    }
   ],
   "source": [
    "df.system.map(read_json(df.system[100]))"
   ]
  },
  {
   "cell_type": "code",
   "execution_count": null,
   "metadata": {},
   "outputs": [],
   "source": []
  }
 ],
 "metadata": {
  "kernelspec": {
   "display_name": "Python 3",
   "language": "python",
   "name": "python3"
  },
  "language_info": {
   "codemirror_mode": {
    "name": "ipython",
    "version": 3
   },
   "file_extension": ".py",
   "mimetype": "text/x-python",
   "name": "python",
   "nbconvert_exporter": "python",
   "pygments_lexer": "ipython3",
   "version": "3.10.11"
  },
  "orig_nbformat": 4
 },
 "nbformat": 4,
 "nbformat_minor": 2
}
