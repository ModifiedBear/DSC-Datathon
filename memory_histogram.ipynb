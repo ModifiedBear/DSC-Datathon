{
 "cells": [
  {
   "cell_type": "code",
   "execution_count": null,
   "metadata": {},
   "outputs": [],
   "source": [
    "## isolation forest\n",
    "import pandas as pd\n",
    "import matplotlib.pyplot as plt\n",
    "import json\n",
    "from read_json import read_json, as_json  # for json files\n",
    "# from sklearn.model_selection import train_test_split\n",
    "from sklearn.ensemble import IsolationForest\n",
    "import numpy as np\n"
   ]
  },
  {
   "cell_type": "code",
   "execution_count": 43,
   "metadata": {},
   "outputs": [],
   "source": [
    "data = pd.read_csv(\"data_sample_noV.csv\")\n",
    "data.columns = data.columns.str.strip()\n"
   ]
  },
  {
   "cell_type": "code",
   "execution_count": null,
   "metadata": {},
   "outputs": [],
   "source": [
    "id_float = data.system.map(lambda x: isinstance(x, float))\n",
    "id_string = data.system.map(lambda x: isinstance(x, str))  # shoudl be ~id_string\n",
    "id_nan = data.system.isna()\n",
    "# all system.network is nan\n",
    "id_network = data.loc[id_string][\"event\"].map(lambda x: \"network\" in x)\n",
    "# get network values\n",
    "network_values = data.loc[id_string][id_network][\"system\"].map(lambda x: as_json(x))"
   ]
  },
  {
   "cell_type": "code",
   "execution_count": 44,
   "metadata": {},
   "outputs": [
    {
     "data": {
      "text/html": [
       "<div>\n",
       "<style scoped>\n",
       "    .dataframe tbody tr th:only-of-type {\n",
       "        vertical-align: middle;\n",
       "    }\n",
       "\n",
       "    .dataframe tbody tr th {\n",
       "        vertical-align: top;\n",
       "    }\n",
       "\n",
       "    .dataframe thead th {\n",
       "        text-align: right;\n",
       "    }\n",
       "</style>\n",
       "<table border=\"1\" class=\"dataframe\">\n",
       "  <thead>\n",
       "    <tr style=\"text-align: right;\">\n",
       "      <th></th>\n",
       "      <th>@timestamp</th>\n",
       "      <th>event</th>\n",
       "      <th>host</th>\n",
       "      <th>system</th>\n",
       "    </tr>\n",
       "  </thead>\n",
       "  <tbody>\n",
       "    <tr>\n",
       "      <th>0</th>\n",
       "      <td>2023-03-15T09:28:35.217Z</td>\n",
       "      <td>{'dataset': 'system.network'}</td>\n",
       "      <td>{'name': 'DEVELOP'}</td>\n",
       "      <td>{'network': {'out': {'bytes': 0}, 'in': {'byte...</td>\n",
       "    </tr>\n",
       "    <tr>\n",
       "      <th>1</th>\n",
       "      <td>2023-03-16T03:18:43.551Z</td>\n",
       "      <td>{'dataset': 'system.network'}</td>\n",
       "      <td>{'name': 'QASERVER'}</td>\n",
       "      <td>{'network': {'out': {'bytes': 0}, 'in': {'byte...</td>\n",
       "    </tr>\n",
       "    <tr>\n",
       "      <th>2</th>\n",
       "      <td>2023-03-01T08:09:17.822Z</td>\n",
       "      <td>{'dataset': 'system.cpu'}</td>\n",
       "      <td>{'name': 'PRODUCCION'}</td>\n",
       "      <td>{'cpu': {'cores': 8, 'idle': {'pct': 7.7302}, ...</td>\n",
       "    </tr>\n",
       "    <tr>\n",
       "      <th>3</th>\n",
       "      <td>2023-03-27T20:31:45.971Z</td>\n",
       "      <td>{'dataset': 'system.cpu'}</td>\n",
       "      <td>{'name': 'DEVELOP'}</td>\n",
       "      <td>{'cpu': {'cores': 4, 'idle': {'pct': 3.9579}, ...</td>\n",
       "    </tr>\n",
       "    <tr>\n",
       "      <th>4</th>\n",
       "      <td>2023-03-27T17:06:04.885Z</td>\n",
       "      <td>{'dataset': 'system.network'}</td>\n",
       "      <td>{'name': 'PRODUCCION'}</td>\n",
       "      <td>{'network': {'out': {'bytes': 0}, 'in': {'byte...</td>\n",
       "    </tr>\n",
       "  </tbody>\n",
       "</table>\n",
       "</div>"
      ],
      "text/plain": [
       "                 @timestamp                          event  \\\n",
       "0  2023-03-15T09:28:35.217Z  {'dataset': 'system.network'}   \n",
       "1  2023-03-16T03:18:43.551Z  {'dataset': 'system.network'}   \n",
       "2  2023-03-01T08:09:17.822Z      {'dataset': 'system.cpu'}   \n",
       "3  2023-03-27T20:31:45.971Z      {'dataset': 'system.cpu'}   \n",
       "4  2023-03-27T17:06:04.885Z  {'dataset': 'system.network'}   \n",
       "\n",
       "                     host                                             system  \n",
       "0     {'name': 'DEVELOP'}  {'network': {'out': {'bytes': 0}, 'in': {'byte...  \n",
       "1    {'name': 'QASERVER'}  {'network': {'out': {'bytes': 0}, 'in': {'byte...  \n",
       "2  {'name': 'PRODUCCION'}  {'cpu': {'cores': 8, 'idle': {'pct': 7.7302}, ...  \n",
       "3     {'name': 'DEVELOP'}  {'cpu': {'cores': 4, 'idle': {'pct': 3.9579}, ...  \n",
       "4  {'name': 'PRODUCCION'}  {'network': {'out': {'bytes': 0}, 'in': {'byte...  "
      ]
     },
     "execution_count": 44,
     "metadata": {},
     "output_type": "execute_result"
    }
   ],
   "source": [
    "data.head()"
   ]
  },
  {
   "cell_type": "code",
   "execution_count": 76,
   "metadata": {},
   "outputs": [],
   "source": [
    "hostnames = data[\"host\"].unique()\n",
    "hostnames = list(map(read_json, hostnames))\n",
    "hostnames_values = np.array([list(hostnames[i].values()) for i in range(len(hostnames))])\n",
    "\n",
    "id_float = data.system.map(lambda x: isinstance(x, float))\n",
    "id_string = data.system.map(lambda x: isinstance(x, str))  # shoudl be ~id_string\n",
    "id_nan = data.system.isna()\n",
    "# all system.network is nan\n",
    "id_memory = data.loc[id_string][\"event\"].map(lambda x: \"memory\" in x)\n",
    "# get network values\n",
    "memory_values = data.loc[id_string][id_memory][\"system\"].map(lambda x: as_json(x))\n",
    "#out_bytes = \n",
    "actual_used_bytes = memory_values.map(lambda x: x[\"memory\"][\"actual\"][\"used\"][\"bytes\"])\n",
    "actual_used_pct = memory_values.map(lambda x: x[\"memory\"][\"actual\"][\"used\"][\"pct\"])\n",
    "swap_free = memory_values.map(lambda x: x[\"memory\"][\"swap\"][\"free\"])\n",
    "swap_total = memory_values.map(lambda x: x[\"memory\"][\"swap\"][\"total\"])\n",
    "free = memory_values.map(lambda x: x[\"memory\"][\"free\"])\n",
    "\n",
    "swap = 1- swap_free/swap_total\n",
    "bytes_total = actual_used_bytes + free\n",
    "bytes_total_norm = bytes_total/bytes_total.max()\n",
    "swap_norm = swap/swap.max()\n"
   ]
  },
  {
   "cell_type": "code",
   "execution_count": 77,
   "metadata": {},
   "outputs": [],
   "source": [
    "memory_df = pd.DataFrame(np.array([actual_used_bytes, actual_used_pct, swap_free, swap_total, free, swap, bytes_total, bytes_total_norm, swap_norm]).T,\n",
    "                          columns=[\"actual_used_bytes\", \"actual_used_pct\", \"swap_free\", \"swap_total\", \"free\", \"swap\", \"bytes_total\", \"bytes_total_norm\", \"swap_norm\"],\n",
    "                          index  = memory_values.index)"
   ]
  },
  {
   "cell_type": "code",
   "execution_count": 78,
   "metadata": {},
   "outputs": [
    {
     "data": {
      "text/html": [
       "<div>\n",
       "<style scoped>\n",
       "    .dataframe tbody tr th:only-of-type {\n",
       "        vertical-align: middle;\n",
       "    }\n",
       "\n",
       "    .dataframe tbody tr th {\n",
       "        vertical-align: top;\n",
       "    }\n",
       "\n",
       "    .dataframe thead th {\n",
       "        text-align: right;\n",
       "    }\n",
       "</style>\n",
       "<table border=\"1\" class=\"dataframe\">\n",
       "  <thead>\n",
       "    <tr style=\"text-align: right;\">\n",
       "      <th></th>\n",
       "      <th>actual_used_bytes</th>\n",
       "      <th>actual_used_pct</th>\n",
       "      <th>swap_free</th>\n",
       "      <th>swap_total</th>\n",
       "      <th>free</th>\n",
       "      <th>swap</th>\n",
       "      <th>bytes_total</th>\n",
       "      <th>bytes_total_norm</th>\n",
       "      <th>swap_norm</th>\n",
       "    </tr>\n",
       "  </thead>\n",
       "  <tbody>\n",
       "    <tr>\n",
       "      <th>5</th>\n",
       "      <td>4.141031e+09</td>\n",
       "      <td>0.4821</td>\n",
       "      <td>5.615337e+09</td>\n",
       "      <td>9.931096e+09</td>\n",
       "      <td>4.447887e+09</td>\n",
       "      <td>0.434570</td>\n",
       "      <td>8.588919e+09</td>\n",
       "      <td>0.130819</td>\n",
       "      <td>0.544340</td>\n",
       "    </tr>\n",
       "    <tr>\n",
       "      <th>7</th>\n",
       "      <td>5.164450e+09</td>\n",
       "      <td>0.6013</td>\n",
       "      <td>4.451951e+09</td>\n",
       "      <td>9.931096e+09</td>\n",
       "      <td>3.424469e+09</td>\n",
       "      <td>0.551716</td>\n",
       "      <td>8.588919e+09</td>\n",
       "      <td>0.130819</td>\n",
       "      <td>0.691076</td>\n",
       "    </tr>\n",
       "    <tr>\n",
       "      <th>8</th>\n",
       "      <td>5.752726e+09</td>\n",
       "      <td>0.2232</td>\n",
       "      <td>2.381985e+10</td>\n",
       "      <td>2.952686e+10</td>\n",
       "      <td>2.001604e+10</td>\n",
       "      <td>0.193282</td>\n",
       "      <td>2.576876e+10</td>\n",
       "      <td>0.392488</td>\n",
       "      <td>0.242104</td>\n",
       "    </tr>\n",
       "    <tr>\n",
       "      <th>11</th>\n",
       "      <td>9.764221e+09</td>\n",
       "      <td>0.5684</td>\n",
       "      <td>8.783434e+09</td>\n",
       "      <td>1.972899e+10</td>\n",
       "      <td>7.414632e+09</td>\n",
       "      <td>0.554796</td>\n",
       "      <td>1.717885e+10</td>\n",
       "      <td>0.261654</td>\n",
       "      <td>0.694933</td>\n",
       "    </tr>\n",
       "    <tr>\n",
       "      <th>14</th>\n",
       "      <td>5.098824e+09</td>\n",
       "      <td>0.5937</td>\n",
       "      <td>4.535349e+09</td>\n",
       "      <td>9.931096e+09</td>\n",
       "      <td>3.490095e+09</td>\n",
       "      <td>0.543318</td>\n",
       "      <td>8.588919e+09</td>\n",
       "      <td>0.130819</td>\n",
       "      <td>0.680557</td>\n",
       "    </tr>\n",
       "  </tbody>\n",
       "</table>\n",
       "</div>"
      ],
      "text/plain": [
       "    actual_used_bytes  actual_used_pct     swap_free    swap_total  \\\n",
       "5        4.141031e+09           0.4821  5.615337e+09  9.931096e+09   \n",
       "7        5.164450e+09           0.6013  4.451951e+09  9.931096e+09   \n",
       "8        5.752726e+09           0.2232  2.381985e+10  2.952686e+10   \n",
       "11       9.764221e+09           0.5684  8.783434e+09  1.972899e+10   \n",
       "14       5.098824e+09           0.5937  4.535349e+09  9.931096e+09   \n",
       "\n",
       "            free      swap   bytes_total  bytes_total_norm  swap_norm  \n",
       "5   4.447887e+09  0.434570  8.588919e+09          0.130819   0.544340  \n",
       "7   3.424469e+09  0.551716  8.588919e+09          0.130819   0.691076  \n",
       "8   2.001604e+10  0.193282  2.576876e+10          0.392488   0.242104  \n",
       "11  7.414632e+09  0.554796  1.717885e+10          0.261654   0.694933  \n",
       "14  3.490095e+09  0.543318  8.588919e+09          0.130819   0.680557  "
      ]
     },
     "execution_count": 78,
     "metadata": {},
     "output_type": "execute_result"
    }
   ],
   "source": [
    "memory_df.head()"
   ]
  },
  {
   "cell_type": "code",
   "execution_count": 79,
   "metadata": {},
   "outputs": [],
   "source": [
    "memory_df.to_csv(\"memory_df.csv\")"
   ]
  },
  {
   "cell_type": "code",
   "execution_count": 58,
   "metadata": {},
   "outputs": [
    {
     "data": {
      "image/png": "[encoded data removed]",
      "text/plain": [
       "<Figure size 432x288 with 1 Axes>"
      ]
     },
     "metadata": {
      "needs_background": "light"
     },
     "output_type": "display_data"
    },
    {
     "data": {
      "image/png": "[encoded data removed]",
      "text/plain": [
       "<Figure size 432x288 with 1 Axes>"
      ]
     },
     "metadata": {
      "needs_background": "light"
     },
     "output_type": "display_data"
    }
   ],
   "source": [
    "plt.scatter(actual_used_bytes.index, actual_used_bytes)\n",
    "plt.show()\n",
    "plt.scatter(actual_used_pct.index, actual_used_pct)\n",
    "plt.show()"
   ]
  },
  {
   "cell_type": "code",
   "execution_count": 60,
   "metadata": {},
   "outputs": [
    {
     "data": {
      "image/png": "[encoded data removed]",
      "text/plain": [
       "<Figure size 432x288 with 1 Axes>"
      ]
     },
     "metadata": {
      "needs_background": "light"
     },
     "output_type": "display_data"
    }
   ],
   "source": [
    "plt.scatter(free, actual_used_bytes)\n",
    "plt.show()"
   ]
  },
  {
   "cell_type": "code",
   "execution_count": 5,
   "metadata": {},
   "outputs": [
    {
     "data": {
      "text/plain": [
       "0              {'name': 'DEVELOP'}\n",
       "1             {'name': 'QASERVER'}\n",
       "2           {'name': 'PRODUCCION'}\n",
       "3              {'name': 'DEVELOP'}\n",
       "4           {'name': 'PRODUCCION'}\n",
       "                   ...            \n",
       "99995    {'name': 'PREPRODUCCION'}\n",
       "99996          {'name': 'PRUEBAS'}\n",
       "99997    {'name': 'PREPRODUCCION'}\n",
       "99998    {'name': 'PREPRODUCCION'}\n",
       "99999          {'name': 'PRUEBAS'}\n",
       "Name: host, Length: 100000, dtype: object"
      ]
     },
     "execution_count": 5,
     "metadata": {},
     "output_type": "execute_result"
    }
   ],
   "source": [
    "data_host"
   ]
  },
  {
   "cell_type": "code",
   "execution_count": 4,
   "metadata": {},
   "outputs": [],
   "source": [
    "def find_string(string, obj):\n",
    "    # finds string in object\n",
    "    return string in obj"
   ]
  }
 ],
 "metadata": {
  "kernelspec": {
   "display_name": "dsc",
   "language": "python",
   "name": "python3"
  },
  "language_info": {
   "codemirror_mode": {
    "name": "ipython",
    "version": 3
   },
   "file_extension": ".py",
   "mimetype": "text/x-python",
   "name": "python",
   "nbconvert_exporter": "python",
   "pygments_lexer": "ipython3",
   "version": "3.10.10"
  },
  "orig_nbformat": 4
 },
 "nbformat": 4,
 "nbformat_minor": 2
}
