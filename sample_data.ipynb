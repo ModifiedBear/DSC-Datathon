{
 "cells": [
  {
   "attachments": {},
   "cell_type": "markdown",
   "metadata": {},
   "source": [
    "## Resampler\n",
    "Crea un resample para cada hostname y lo guarda en un csv"
   ]
  },
  {
   "cell_type": "code",
   "execution_count": 38,
   "metadata": {},
   "outputs": [],
   "source": [
    "import pandas as pd\n",
    "import matplotlib.pyplot as plt\n",
    "import json\n",
    "from read_json import as_json,format_time  # for json files\n",
    "import numpy as np\n",
    "import seaborn as sb"
   ]
  },
  {
   "cell_type": "code",
   "execution_count": 39,
   "metadata": {},
   "outputs": [],
   "source": [
    "data = pd.read_csv(\"data.csv\")"
   ]
  },
  {
   "cell_type": "markdown",
   "metadata": {},
   "source": [
    "Definir datos a remuestrear"
   ]
  },
  {
   "cell_type": "code",
   "execution_count": 175,
   "metadata": {},
   "outputs": [],
   "source": [
    "data_sample = data.sample(n = 100000, random_state=2333)\n",
    "fname = \"data_4\""
   ]
  },
  {
   "attachments": {},
   "cell_type": "markdown",
   "metadata": {},
   "source": [
    "## Análisis"
   ]
  },
  {
   "cell_type": "code",
   "execution_count": 170,
   "metadata": {},
   "outputs": [],
   "source": [
    "# data_sample.drop(columns=\"@version\")\n",
    "# data_sample.to_csv(\"data_samples/data_sample_4.csv\", index=False)\n",
    "id_nan = data_sample.system.isna()\n",
    "\n",
    "# exclude nans\n",
    "data_sample = data_sample.loc[~id_nan]\n",
    "\n",
    "# get hostnames\n",
    "# hostnames = data[\"host\"].unique()            # get unique names\n",
    "hostnames = data_sample[\"host\"].map(lambda x: as_json(x))\n",
    "hostnames = list(map(lambda x: x[\"name\"], hostnames))\n",
    "data_sample[\"host\"] = hostnames  # change to readable hostnames\n",
    "\n",
    "id_net = data_sample[\"event\"].map(lambda x: \"network\" in x)\n",
    "id_mem = data_sample[\"event\"].map(lambda x: \"mem\" in x)\n",
    "id_cpu = data_sample[\"event\"].map(lambda x: \"cpu\" in x)\n",
    "\n",
    "## CPU (implicitly, cpu_cores depends on the server)\n",
    "cpu_values     = data_sample.loc[id_cpu][\"system\"].map(lambda x: as_json(x))\n",
    "\n",
    "# normalize\n",
    "cpu_cores      = cpu_values.map(lambda x: x[\"cpu\"][\"cores\"]        )\n",
    "cpu_user_pct   = cpu_values.map(lambda x: x[\"cpu\"][\"user\"][\"pct\"]  ) / cpu_cores\n",
    "cpu_idle_pct   = cpu_values.map(lambda x: x[\"cpu\"][\"idle\"][\"pct\"]  ) / cpu_cores\n",
    "cpu_system_pct = cpu_values.map(lambda x: x[\"cpu\"][\"system\"][\"pct\"]) / cpu_cores\n",
    "\n",
    "## NETWORK\n",
    "network_values = data_sample[id_net][\"system\"].map(lambda x: as_json(x))\n",
    "out_bytes = network_values.map(lambda x: x[\"network\"][\"out\"][\"bytes\"])\n",
    "in_bytes  = network_values.map(lambda x: x[\"network\"][\"in\"][\"bytes\"] )\n",
    "\n",
    "# normalize respectively\n",
    "for host in data_sample[\"host\"].unique():\n",
    "    max_out = np.max(out_bytes.loc[data_sample[\"host\"] == host])\n",
    "    max_in  = np.max(in_bytes.loc[data_sample[\"host\"] == host])\n",
    "    out_bytes.loc[data_sample[\"host\"] == host] = out_bytes.loc[data_sample[\"host\"] == host]/max_out\n",
    "    in_bytes.loc[data_sample[\"host\"] == host] = in_bytes.loc[data_sample[\"host\"] == host]/max_in\n",
    "\n",
    "\n",
    "## MEMORY\n",
    "\n",
    "mem_values     = data_sample.loc[id_mem][\"system\"].map(lambda x: as_json(x))\n",
    "\n",
    "actual_used_bytes = mem_values.map(lambda x: x[\"memory\"][\"actual\"][\"used\"][\"bytes\"])\n",
    "actual_used_pct   = mem_values.map(lambda x: x[\"memory\"][\"actual\"][\"used\"][\"pct\"])\n",
    "swap_free         = mem_values.map(lambda x: x[\"memory\"][\"swap\"][\"free\"])\n",
    "swap_total        = mem_values.map(lambda x: x[\"memory\"][\"swap\"][\"total\"])\n",
    "free              = mem_values.map(lambda x: x[\"memory\"][\"free\"])\n",
    "\n",
    "swap              = 1- swap_free/swap_total\n",
    "bytes_total       = actual_used_bytes + free\n",
    "bytes_total_norm  = bytes_total/bytes_total.max()\n",
    "\n",
    "## combine\n",
    "# mem_df = pd.DataFrame()\n",
    "# net_df = pd.DataFrame()\n",
    "cpu_df = pd.DataFrame({\n",
    "    'cpu_cores': cpu_cores,\n",
    "    'cpu_user_pct': cpu_user_pct,\n",
    "    'cpu_idle_pct': cpu_idle_pct,\n",
    "    'cpu_system_pct': cpu_system_pct\n",
    "})\n",
    "\n",
    "mem_df = pd.DataFrame({\n",
    "    'actual_used_bytes' : actual_used_bytes,\n",
    "    'actual_used_pct'   : actual_used_pct  ,\n",
    "    'swap_free'         : swap_free        ,\n",
    "    'swap_total'        : swap_total       ,\n",
    "    'free'              : free             ,\n",
    "    'swap'              : swap             ,\n",
    "    'bytes_total'       : bytes_total      ,\n",
    "    'bytes_total_norm'  : bytes_total_norm     \n",
    "})\n",
    "\n",
    "net_df = pd.DataFrame({\n",
    "    'out_bytes': out_bytes,\n",
    "    'in_bytes' : in_bytes\n",
    "})\n",
    "host_df = pd.DataFrame({'host': data_sample[\"host\"]})\n",
    "sample_df = pd.concat([cpu_df, mem_df, net_df])\n",
    "\n",
    "sample_df[\"host\"] = data_sample[\"host\"]\n",
    "sample_df.index = pd.to_datetime(data_sample[\"@timestamp\"].map(format_time))\n",
    "sample_df.sort_index(inplace=True)"
   ]
  },
  {
   "cell_type": "code",
   "execution_count": 171,
   "metadata": {},
   "outputs": [
    {
     "data": {
      "text/plain": [
       "16"
      ]
     },
     "execution_count": 171,
     "metadata": {},
     "output_type": "execute_result"
    }
   ],
   "source": [
    "cpu_df.loc[data_sample[\"host\"] == \"PRUEBAS\"].head(1).cpu_cores.values[0]"
   ]
  },
  {
   "cell_type": "code",
   "execution_count": 172,
   "metadata": {},
   "outputs": [],
   "source": [
    "cores_dict = {\n",
    "    'PRUEBAS'      : cpu_df.loc[data_sample[\"host\"] == \"PRUEBAS\"].head(1).cpu_cores.values[0] , \n",
    "    'PREPRODUCCION': cpu_df.loc[data_sample[\"host\"] == \"PRODUCCION\"].head(1).cpu_cores.values[0] ,\n",
    "    'DEVELOP'      : cpu_df.loc[data_sample[\"host\"] == \"DEVELOP\"].head(1).cpu_cores.values[0] ,\n",
    "    'QASERVER'     : cpu_df.loc[data_sample[\"host\"] == \"QASERVER\"].head(1).cpu_cores.values[0],\n",
    "    'PRODUCCION'   : cpu_df.loc[data_sample[\"host\"] == \"PRODUCCION\"].head(1).cpu_cores.values[0]\n",
    "}\n"
   ]
  },
  {
   "cell_type": "code",
   "execution_count": 173,
   "metadata": {},
   "outputs": [],
   "source": [
    "# save resampled data\n",
    "for hostname in data_sample[\"host\"].unique():\n",
    "  host = sample_df.loc[sample_df[\"host\"] == hostname]\n",
    "  resampled = sample_df.loc[:,sample_df.columns != \"host\"].resample('10Min').mean()\n",
    "  resampled.cpu_cores = cores_dict[hostname]\n",
    "  resampled[\"host\"] = hostname\n",
    "  resampled.to_csv(\"resampled/\"+fname + \"/\" + \"resampled_\" + hostname + \".csv\")\n",
    "\n"
   ]
  },
  {
   "cell_type": "code",
   "execution_count": 174,
   "metadata": {},
   "outputs": [],
   "source": [
    "# save all data\n",
    "h1 = pd.read_csv(\"resampled/\"+fname + \"/\" + \"resampled_\" + 'PRUEBAS'       + \".csv\")\n",
    "h2 = pd.read_csv(\"resampled/\"+fname + \"/\" + \"resampled_\" + 'PREPRODUCCION' + \".csv\")\n",
    "h3 = pd.read_csv(\"resampled/\"+fname + \"/\" + \"resampled_\" + 'DEVELOP'       + \".csv\")\n",
    "h4 = pd.read_csv(\"resampled/\"+fname + \"/\" + \"resampled_\" + 'QASERVER'      + \".csv\")\n",
    "h5 = pd.read_csv(\"resampled/\"+fname + \"/\" + \"resampled_\" + 'PRODUCCION'    + \".csv\")\n",
    "\n",
    "pd.concat([h1, h2, h3, h4, h5]).to_csv(\"resampled/\"+fname+\"/\"+\"resampled.csv\")\n"
   ]
  }
 ],
 "metadata": {
  "kernelspec": {
   "display_name": "DSC-Datathon",
   "language": "python",
   "name": "python3"
  },
  "language_info": {
   "codemirror_mode": {
    "name": "ipython",
    "version": 3
   },
   "file_extension": ".py",
   "mimetype": "text/x-python",
   "name": "python",
   "nbconvert_exporter": "python",
   "pygments_lexer": "ipython3",
   "version": "3.10.10"
  },
  "orig_nbformat": 4
 },
 "nbformat": 4,
 "nbformat_minor": 2
}
