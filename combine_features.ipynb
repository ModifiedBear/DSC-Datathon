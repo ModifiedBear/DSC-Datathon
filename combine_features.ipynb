{
 "cells": [
  {
   "attachments": {},
   "cell_type": "markdown",
   "metadata": {},
   "source": [
    "# Combine features from dframe\n",
    "Combine features from dframes and plot a scatter matrix"
   ]
  },
  {
   "cell_type": "code",
   "execution_count": 1,
   "metadata": {},
   "outputs": [],
   "source": [
    "# read features\n",
    "import pandas as pd"
   ]
  },
  {
   "cell_type": "code",
   "execution_count": 38,
   "metadata": {},
   "outputs": [],
   "source": [
    "cpu_df = pd.read_csv(\"cpu_df.csv\",index_col=0)\n",
    "memory_df = pd.read_csv(\"memory_df.csv\", index_col=0)\n",
    "network_df = pd.read_csv(\"network_df.csv\", index_col=0)\n",
    "frames = [cpu_df, memory_df, network_df]\n",
    "df = pd.concat(frames)  # no jala"
   ]
  },
  {
   "cell_type": "code",
   "execution_count": 39,
   "metadata": {},
   "outputs": [
    {
     "data": {
      "text/html": [
       "<div>\n",
       "<style scoped>\n",
       "    .dataframe tbody tr th:only-of-type {\n",
       "        vertical-align: middle;\n",
       "    }\n",
       "\n",
       "    .dataframe tbody tr th {\n",
       "        vertical-align: top;\n",
       "    }\n",
       "\n",
       "    .dataframe thead th {\n",
       "        text-align: right;\n",
       "    }\n",
       "</style>\n",
       "<table border=\"1\" class=\"dataframe\">\n",
       "  <thead>\n",
       "    <tr style=\"text-align: right;\">\n",
       "      <th></th>\n",
       "      <th>cores</th>\n",
       "      <th>user_pct</th>\n",
       "      <th>idle_pct</th>\n",
       "      <th>system_pct</th>\n",
       "    </tr>\n",
       "  </thead>\n",
       "  <tbody>\n",
       "    <tr>\n",
       "      <th>cores</th>\n",
       "      <td>1.000000</td>\n",
       "      <td>-0.207203</td>\n",
       "      <td>0.231176</td>\n",
       "      <td>-0.212318</td>\n",
       "    </tr>\n",
       "    <tr>\n",
       "      <th>user_pct</th>\n",
       "      <td>-0.207203</td>\n",
       "      <td>1.000000</td>\n",
       "      <td>-0.894310</td>\n",
       "      <td>0.643026</td>\n",
       "    </tr>\n",
       "    <tr>\n",
       "      <th>idle_pct</th>\n",
       "      <td>0.231176</td>\n",
       "      <td>-0.894310</td>\n",
       "      <td>1.000000</td>\n",
       "      <td>-0.917738</td>\n",
       "    </tr>\n",
       "    <tr>\n",
       "      <th>system_pct</th>\n",
       "      <td>-0.212318</td>\n",
       "      <td>0.643026</td>\n",
       "      <td>-0.917738</td>\n",
       "      <td>1.000000</td>\n",
       "    </tr>\n",
       "  </tbody>\n",
       "</table>\n",
       "</div>"
      ],
      "text/plain": [
       "               cores  user_pct  idle_pct  system_pct\n",
       "cores       1.000000 -0.207203  0.231176   -0.212318\n",
       "user_pct   -0.207203  1.000000 -0.894310    0.643026\n",
       "idle_pct    0.231176 -0.894310  1.000000   -0.917738\n",
       "system_pct -0.212318  0.643026 -0.917738    1.000000"
      ]
     },
     "execution_count": 39,
     "metadata": {},
     "output_type": "execute_result"
    }
   ],
   "source": [
    "cpu_df.corr()"
   ]
  }
 ],
 "metadata": {
  "kernelspec": {
   "display_name": "dsc",
   "language": "python",
   "name": "python3"
  },
  "language_info": {
   "codemirror_mode": {
    "name": "ipython",
    "version": 3
   },
   "file_extension": ".py",
   "mimetype": "text/x-python",
   "name": "python",
   "nbconvert_exporter": "python",
   "pygments_lexer": "ipython3",
   "version": "3.10.10"
  },
  "orig_nbformat": 4
 },
 "nbformat": 4,
 "nbformat_minor": 2
}
