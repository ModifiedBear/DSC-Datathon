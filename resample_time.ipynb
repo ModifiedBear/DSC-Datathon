{
 "cells": [
  {
   "attachments": {},
   "cell_type": "markdown",
   "metadata": {},
   "source": [
    "# Time resample"
   ]
  },
  {
   "cell_type": "code",
   "execution_count": 1,
   "metadata": {},
   "outputs": [],
   "source": [
    "import pandas as pd\n",
    "from read_json import as_json, format_time\n",
    "import numpy as np\n",
    "import matplotlib.pyplot as plt"
   ]
  },
  {
   "cell_type": "code",
   "execution_count": 15,
   "metadata": {},
   "outputs": [],
   "source": [
    "data = pd.read_csv(\"data_samples/data_sample_4.csv\")\n",
    "data[\"@timestamp\"] = pd.to_datetime(data[\"@timestamp\"].map(format_time))  # convert to pandas datetime\n",
    "id_nan =data.system.isna()\n",
    "data_no_nan = data.loc[~id_nan]"
   ]
  },
  {
   "cell_type": "code",
   "execution_count": 10,
   "metadata": {},
   "outputs": [
    {
     "data": {
      "text/plain": [
       "[{'name': 'PRUEBAS'},\n",
       " {'name': 'PRODUCCION'},\n",
       " {'name': 'PREPRODUCCION'},\n",
       " {'name': 'QASERVER'},\n",
       " {'name': 'DEVELOP'}]"
      ]
     },
     "execution_count": 10,
     "metadata": {},
     "output_type": "execute_result"
    }
   ],
   "source": [
    "hostnames = data[\"host\"].unique()            # get unique names\n",
    "hostnames = list(map(as_json, hostnames))\n",
    "hostnames"
   ]
  },
  {
   "cell_type": "code",
   "execution_count": 16,
   "metadata": {},
   "outputs": [],
   "source": [
    "cpu_df = pd.read_csv(\"cpu_df.csv\",index_col=0)\n",
    "mem_df = pd.read_csv(\"memory_df.csv\", index_col=0)\n",
    "net_df = pd.read_csv(\"network_df.csv\", index_col=0)\n",
    "\n",
    "frames = [cpu_df, mem_df, net_df]\n",
    "df = pd.concat(frames)  # si jala\n",
    "df.sort_index(inplace=True)\n",
    "#df[\"@timestamp\"] = data_no_nan[\"@timestamp\"]\n",
    "df.insert(0, \"@timestamp\", data_no_nan[\"@timestamp\"])\n",
    "df_time = df\n",
    "\n",
    "## DEVELOP\n",
    "df_develop = df_time.loc[df_time[\"host\"] == \"DEVELOP\"].drop(\"host\", axis=1)\n",
    "df_develop_resampled = df_develop.resample('10Min', on=\"@timestamp\").mean()\n",
    "df_develop_resampled[\"cores\"] = 4\n",
    "#df_develop_resampled.to_csv(\"resampled/develop_resampled.csv\")\n",
    "\n",
    "## QASERVER\n",
    "# do it by host -->  then relate by host\n",
    "df_qaserver = df_time.loc[df_time[\"host\"] == \"QASERVER\"].drop(\"host\", axis=1)\n",
    "# df_time[\"@timestamp\"].resample(\"5Min\")\n",
    "df_qaserver_resampled = df_qaserver.resample('10Min', on=\"@timestamp\").mean()\n",
    "df_qaserver_resampled[\"cores\"] = 4  # the server has the same number of cores\n",
    "#df_qaserver_resampled.to_csv(\"resampled/qaserver_resampled.csv\")\n",
    "\n",
    "\n",
    "## PRODUCCION\n",
    "df_produccion = df_time.loc[df_time[\"host\"] == \"PRODUCCION\"].drop(\"host\", axis=1)\n",
    "df_produccion_resampled = df_produccion.resample('10Min', on=\"@timestamp\").mean()\n",
    "df_produccion_resampled[\"cores\"] = 8\n",
    "#df_produccion_resampled.to_csv(\"resampled/produccion_resampled.csv\")\n",
    "df_produccion_resampled\n",
    "\n",
    "## PREPRODUCCION\n",
    "df_preproduccion = df_time.loc[df_time[\"host\"] == \"PREPRODUCCION\"].drop(\"host\", axis=1)\n",
    "df_preproduccion_resampled = df_preproduccion.resample('10Min', on=\"@timestamp\").mean()\n",
    "df_preproduccion_resampled[\"cores\"] = 4\n",
    "#df_preproduccion_resampled.to_csv(\"resampled/preproduccion_resampled.csv\")\n",
    "df_preproduccion_resampled\n",
    "\n",
    "## PRUEBAS\n",
    "df_pruebas = df_time.loc[df_time[\"host\"] == \"PRUEBAS\"].drop(\"host\", axis=1)\n",
    "df_pruebas_resampled = df_pruebas.resample('10Min', on=\"@timestamp\").mean()\n",
    "df_pruebas_resampled[\"cores\"] = 16\n",
    "#df_pruebas_resampled.to_csv(\"resampled/pruebas_resampled.csv\")\n",
    "\n",
    "data_full = pd.concat([df_develop_resampled,\n",
    "                       df_produccion_resampled,\n",
    "                       df_preproduccion_resampled,\n",
    "                       df_pruebas_resampled,\n",
    "                       df_qaserver_resampled])\n",
    "data_full.sort_index(inplace=True)\n",
    "data_full.to_csv(\"resampled/data_4_resampled.csv\")"
   ]
  }
 ],
 "metadata": {
  "kernelspec": {
   "display_name": "dsc",
   "language": "python",
   "name": "python3"
  },
  "language_info": {
   "codemirror_mode": {
    "name": "ipython",
    "version": 3
   },
   "file_extension": ".py",
   "mimetype": "text/x-python",
   "name": "python",
   "nbconvert_exporter": "python",
   "pygments_lexer": "ipython3",
   "version": "3.10.10"
  },
  "orig_nbformat": 4
 },
 "nbformat": 4,
 "nbformat_minor": 2
}
